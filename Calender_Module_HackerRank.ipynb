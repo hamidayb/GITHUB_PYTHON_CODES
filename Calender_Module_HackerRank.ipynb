{
  "nbformat": 4,
  "nbformat_minor": 0,
  "metadata": {
    "colab": {
      "name": "Calender Module-HackerRank",
      "provenance": []
    },
    "kernelspec": {
      "name": "python3",
      "display_name": "Python 3"
    }
  },
  "cells": [
    {
      "cell_type": "markdown",
      "metadata": {
        "id": "nSsVcZZ0TuiR",
        "colab_type": "text"
      },
      "source": [
        "# ***Calendar Module***\n",
        "\n",
        "The calendar module allows you to output calendars and provides additional useful functions for them.\n",
        "\n",
        "**class calendar.TextCalendar([firstweekday])**\n",
        "\n",
        "This class can be used to generate plain text calendars.\n",
        "\n",
        "\n",
        "**Task**\n",
        "\n",
        "You are given a date. Your task is to find what the day is on that date.\n",
        "\n",
        "**Input Format**\n",
        "A single line of input containing the space separated month, day and year, respectively, in    format.\n",
        "\n",
        "**Output Format**\n",
        "\n",
        "Output the correct day in capital letters.\n",
        "\n",
        "**Sample Input**\n",
        "\n",
        "08 05 2015\n",
        "\n",
        "**Sample Output**\n",
        "\n",
        "WEDNESDAY\n",
        "\n",
        "**Explanation**\n",
        "\n",
        "The day on August th  was WEDNESDAY."
      ]
    },
    {
      "cell_type": "code",
      "metadata": {
        "id": "qBePh6dbTluR",
        "colab_type": "code",
        "colab": {
          "base_uri": "https://localhost:8080/",
          "height": 51
        },
        "outputId": "a8327cce-3aee-4694-dd48-734d7350d937"
      },
      "source": [
        "import datetime as dt\n",
        "n = input()\n",
        "days = ['Saturday','Sunday','Monday','Tuesday','Wednesday','Thursday','Friday']\n",
        "date = dt.datetime.strptime(n,\"%d %m %Y\").weekday()\n",
        "print(days[date].upper())"
      ],
      "execution_count": 1,
      "outputs": [
        {
          "output_type": "stream",
          "text": [
            "08 05 2015\n",
            "WEDNESDAY\n"
          ],
          "name": "stdout"
        }
      ]
    }
  ]
}